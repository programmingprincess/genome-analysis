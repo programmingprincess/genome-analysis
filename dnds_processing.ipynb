{
 "cells": [
  {
   "cell_type": "code",
   "execution_count": 403,
   "metadata": {},
   "outputs": [],
   "source": [
    "import pyfaidx\n",
    "from pyfaidx import Fasta\n",
    "import os\n",
    "import numpy as np\n",
    "\n",
    "import matplotlib.pyplot as plt\n",
    "import random"
   ]
  },
  {
   "cell_type": "code",
   "execution_count": null,
   "metadata": {},
   "outputs": [],
   "source": [
    "# %xdel VAR to release large temp variables in this notebook "
   ]
  },
  {
   "cell_type": "code",
   "execution_count": 2,
   "metadata": {},
   "outputs": [],
   "source": [
    "mutpan_root=\"mutpan/\"\n",
    "file_cluster=mutpan_root+\"ClusteringComplete/ClusteringComplete_Samples.txt\"\n",
    "\n",
    "# sample: cluster\n",
    "clusters = {}\n",
    "\n",
    "with open(file_cluster) as f:\n",
    "    for idx, line in enumerate(f):\n",
    "        if idx > 0:\n",
    "            try:\n",
    "                t=line.split(\"\\t\")\n",
    "                sample=t[0].strip()\n",
    "                entity=t[1].strip()\n",
    "                cluster_id=t[2].strip()\n",
    "                \n",
    "                clusters[sample] = cluster_id\n",
    "                \n",
    "            except:\n",
    "                print(t)\n",
    "                errors.append(idx)"
   ]
  },
  {
   "cell_type": "code",
   "execution_count": 3,
   "metadata": {},
   "outputs": [
    {
     "name": "stdout",
     "output_type": "stream",
     "text": [
      "{'0': 89, '1': 440, '2': 40, '3': 11}\n"
     ]
    }
   ],
   "source": [
    "# how many samples in each cluster? \n",
    "reverse_cluster={}\n",
    "for i in clusters:\n",
    "    if clusters[i] in reverse_cluster:\n",
    "        reverse_cluster[clusters[i]]+=1\n",
    "    else:\n",
    "        reverse_cluster[clusters[i]] = 1\n",
    "print(reverse_cluster)"
   ]
  },
  {
   "cell_type": "markdown",
   "metadata": {},
   "source": [
    "### Input for dNDScv"
   ]
  },
  {
   "cell_type": "code",
   "execution_count": 4,
   "metadata": {},
   "outputs": [],
   "source": [
    "file_maf=\"Melanoma/MutationsSkin.maf\"\n",
    "out_file=\"dndS\"\n",
    "# with open(tsv, 'w') as outf:\n",
    "with open(file_maf) as f:\n",
    "    for idx, line in enumerate(f):\n",
    "        if idx > -1:\n",
    "            t=line.split(\"\\t\")\n",
    "            sample=t[10].strip()"
   ]
  },
  {
   "cell_type": "markdown",
   "metadata": {},
   "source": [
    "# Get codon positions"
   ]
  },
  {
   "cell_type": "code",
   "execution_count": 194,
   "metadata": {},
   "outputs": [],
   "source": [
    "# loop through Annotation file\n",
    "# add pos, nucleotoide, and AA associated with each position\n",
    "\n",
    "file_annotate=\"Hg19/AnnotationHg19/Annotation_chr22.txt\"\n",
    "annots=[]\n",
    "with open(file_annotate) as f:\n",
    "    for idx, line in enumerate(f):\n",
    "        if idx > 0:\n",
    "            t=line.split(\"\\t\")\n",
    "            if len(t) > 3: # has AA info\n",
    "                pos=t[0]\n",
    "                nuc=t[1]\n",
    "                aa= t[3]\n",
    "                # beyond index 3 are the possible nonsynonymous AA variants \n",
    "                aa1=t[5]\n",
    "                aa2=t[6]\n",
    "                aa3=t[7].strip()\n",
    "                \n",
    "                annots.append([pos, nuc, aa, aa1, aa2, aa3])"
   ]
  },
  {
   "cell_type": "markdown",
   "metadata": {},
   "source": [
    "### Codon position computation \n",
    "\n",
    "For each position, identify its relative codon position (i.e., 1st, 2nd, or 3rd). Using a stack, all positions with the same amino acid are put in the stack. Once the amino acid changes, we know a codon (or string of codons) has ended. We assign each item in the stack a position depending on its index % 3. "
   ]
  },
  {
   "cell_type": "code",
   "execution_count": 195,
   "metadata": {},
   "outputs": [
    {
     "name": "stdout",
     "output_type": "stream",
     "text": [
      "[[17956630, 'R', 'G', 'null', 'null', 'null']]\n",
      "[[18022692, 'E', 'G', 'null', 'null', 'null']]\n",
      "[[18027838, 'A', 'C', 'null', 'null', 'null'], [18027839, 'A', 'A', 'null', 'null', 'null']]\n",
      "[[18121652, 'G', 'G', 'null', 'null', 'null']]\n",
      "[[18185009, 'D', 'A', 'null', 'null', 'null'], [18185010, 'D', 'T', 'null', 'null', 'null']]\n",
      "[[18185038, 'N', 'A', 'null', 'null', 'null']]\n",
      "[[18314867, 'S', 'G', 'S', 'S', 'S'], [18314868, 'S', 'G', 'Y', 'C', 'F'], [18314869, 'S', 'A', 'T', 'A', 'P'], [18314870, 'S', 'A', 'R', 'R', 'S'], [18314871, 'S', 'C', 'I', 'T', 'N'], [18314872, 'S', 'T', 'C', 'R', 'G'], [18314873, 'S', 'A', 'null', 'null', 'null']]\n",
      "[[18317315, 'R', 'T', 'null', 'null', 'null']]\n",
      "[[18324588, 'S', 'C', 'null', 'null', 'null'], [18324589, 'S', 'T', 'null', 'null', 'null'], [18324590, 'S', 'G', 'R', 'R', 'S'], [18324591, 'S', 'C', 'I', 'T', 'N'], [18324592, 'S', 'T', 'C', 'R', 'G']]\n",
      "[[18324782, 'G', 'A', 'null', 'null', 'null'], [18324783, 'G', 'C', 'null', 'null', 'null']]\n",
      "[[19166093, 'G', 'C', 'null', 'null', 'null']]\n",
      "[[19189002, 'V', 'A', 'null', 'null', 'null'], [19189003, 'V', 'A', 'null', 'null', 'null']]\n",
      "[[19438262, 'E', 'T', 'null', 'null', 'null']]\n",
      "[[19438266, 'G', 'T', 'null', 'null', 'null'], [19438267, 'G', 'C', 'null', 'null', 'null']]\n",
      "[[19481901, 'R', 'C', 'R', 'G', 'W'], [19481902, 'R', 'G', 'L', 'P', 'Q'], [19481903, 'R', 'G', 'R', 'R', 'R'], [19481904, 'R', 'A', 'null', 'null', 'null'], [19481905, 'R', 'G', 'null', 'null', 'null']]\n",
      "[[19482030, 'S', 'T', 'null', 'null', 'null']]\n",
      "[[19753525, 'G', 'G', 'null', 'null', 'null']]\n",
      "[[19753912, 'D', 'A', 'null', 'null', 'null'], [19753913, 'D', 'C', 'null', 'null', 'null']]\n",
      "[[19766743, 'G', 'G', 'null', 'null', 'null'], [19766744, 'G', 'T', 'null', 'null', 'null'], [19766745, 'G', 'G', '*', 'R', 'R'], [19766746, 'G', 'G', 'V', 'A', 'E'], [19766747, 'G', 'A', 'G', 'G', 'G']]\n",
      "[[19770436, 'G', 'G', 'null', 'null', 'null'], [19770437, 'G', 'G', 'null', 'null', 'null']]\n",
      "[[19870983, 'G', 'A', 'null', 'null', 'null'], [19870984, 'G', 'C', 'null', 'null', 'null']]\n",
      "[[19882722, 'A', 'T', 'null', 'null', 'null'], [19882723, 'A', 'G', 'null', 'null', 'null']]\n",
      "[[19882930, 'G', 'C', 'null', 'null', 'null']]\n",
      "[[19920957, 'A', 'C', 'null', 'null', 'null']]\n",
      "[[19929224, 'A', 'C', 'null', 'null', 'null'], [19929225, 'A', 'T', 'A', 'A', 'A'], [19929226, 'A', 'G', 'E', 'G', 'V'], [19929227, 'A', 'C', 'S', 'P', 'T'], [19929228, 'A', 'T', 'A', 'A', 'A'], [19929229, 'A', 'G', 'E', 'G', 'V'], [19929230, 'A', 'C', 'S', 'P', 'T']]\n",
      "[[20024376, 'R', 'A', 'null', 'null', 'null'], [20024377, 'R', 'G', 'null', 'null', 'null']]\n",
      "[[20100317, 'D', 'G', 'null', 'null', 'null']]\n",
      "[[20134544, 'R', 'G', 'null', 'null', 'null']]\n",
      "[[21322263, 'V', 'G', 'null', 'null', 'null']]\n",
      "[[21327578, 'G', 'G', 'null', 'null', 'null'], [21327579, 'G', 'C', 'null', 'null', 'null']]\n",
      "[[21335055, 'K', 'A', 'null', 'null', 'null'], [21335056, 'K', 'A', 'null', 'null', 'null']]\n",
      "[[21335281, 'E', 'G', 'null', 'null', 'null']]\n",
      "[[21369626, 'G', 'G', 'null', 'null', 'null'], [21369627, 'G', 'G', 'null', 'null', 'null']]\n",
      "[[21370231, 'K', 'G', 'null', 'null', 'null']]\n",
      "[[21372338, 'R', 'A', 'null', 'null', 'null'], [21372339, 'R', 'G', 'null', 'null', 'null']]\n",
      "[[21372349, 'G', 'G', 'null', 'null', 'null']]\n",
      "[[21380907, 'S', 'C', 'null', 'null', 'null']]\n",
      "[[21563385, 'S', 'A', 'null', 'null', 'null']]\n",
      "[[21563648, 'Y', 'T', 'null', 'null', 'null'], [21563649, 'Y', 'A', 'null', 'null', 'null']]\n",
      "[[22049780, 'S', 'C', 'null', 'null', 'null'], [22049781, 'S', 'A', 'C', 'R', 'G'], [22049782, 'S', 'G', 'I', 'T', 'N'], [22049783, 'S', 'C', 'R', 'R', 'S']]\n",
      "[[22311966, 'G', 'G', 'null', 'null', 'null'], [22311967, 'G', 'C', 'null', 'null', 'null']]\n",
      "[[22599224, 'P', 'C', 'null', 'null', 'null'], [22599225, 'P', 'C', 'null', 'null', 'null']]\n",
      "[[23406310, 'G', 'C', 'null', 'null', 'null'], [23406311, 'G', 'C', 'null', 'null', 'null']]\n",
      "[[23476213, 'G', 'C', 'null', 'null', 'null']]\n",
      "[[23503752, 'T', 'C', 'null', 'null', 'null'], [23503753, 'T', 'T', 'null', 'null', 'null']]\n",
      "[[23915720, 'E', 'C', 'D', 'D', 'E'], [23915721, 'E', 'T', 'V', 'A', 'G'], [23915722, 'E', 'C', '*', 'Q', 'K'], [23915723, 'E', 'C', 'null', 'null', 'null']]\n",
      "[[23915772, 'R', 'C', 'null', 'null', 'null']]\n",
      "[[23917154, 'S', 'T', 'null', 'null', 'null']]\n",
      "[[24040519, 'S', 'A', 'null', 'null', 'null'], [24040520, 'S', 'G', 'null', 'null', 'null']]\n",
      "[[24040742, 'R', 'A', 'null', 'null', 'null']]\n",
      "[[24041031, 'S', 'C', 'null', 'null', 'null']]\n",
      "[[24041071, 'G', 'G', 'null', 'null', 'null'], [24041072, 'G', 'C', 'null', 'null', 'null']]\n",
      "[[24134054, 'D', 'G', 'null', 'null', 'null']]\n",
      "[[24134055, 'G', 'G', 'null', 'null', 'null'], [24134056, 'G', 'T', 'null', 'null', 'null']]\n",
      "[[24143267, 'C', 'T', 'null', 'null', 'null'], [24143268, 'C', 'G', 'null', 'null', 'null']]\n",
      "[[24143269, 'W', 'G', 'null', 'null', 'null']]\n",
      "[[24143321, 'H', 'C', 'null', 'null', 'null'], [24143322, 'H', 'A', 'null', 'null', 'null']]\n",
      "[[24145482, 'C', 'C', 'null', 'null', 'null']]\n",
      "[[24177119, 'L', 'C', 'null', 'null', 'null']]\n",
      "[[24179149, 'L', 'T', 'null', 'null', 'null']]\n",
      "[[24226831, 'R', 'C', 'S', 'G', 'C'], [24226832, 'R', 'G', 'L', 'P', 'H'], [24226833, 'R', 'C', 'R', 'R', 'R'], [24226834, 'R', 'A', 'null', 'null', 'null'], [24226835, 'R', 'G', 'null', 'null', 'null']]\n",
      "[[24227037, 'S', 'T', 'null', 'null', 'null']]\n",
      "[[24381786, 'G', 'A', 'null', 'null', 'null'], [24381787, 'G', 'C', 'null', 'null', 'null']]\n",
      "[[24382973, 'R', 'C', 'null', 'null', 'null'], [24382974, 'R', 'T', 'null', 'null', 'null']]\n",
      "[[24383080, 'D', 'G', 'null', 'null', 'null'], [24383081, 'D', 'T', 'null', 'null', 'null']]\n",
      "[[24384120, 'G', 'C', 'null', 'null', 'null']]\n",
      "[[24621381, 'A', 'T', 'null', 'null', 'null'], [24621382, 'A', 'G', 'null', 'null', 'null']]\n",
      "[[24621514, 'V', 'C', 'null', 'null', 'null']]\n",
      "[[24939064, 'R', 'T', 'null', 'null', 'null'], [24939065, 'R', 'C', 'null', 'null', 'null']]\n",
      "[[24939066, 'G', 'C', 'null', 'null', 'null']]\n",
      "[[24939067, 'P', 'T', 'null', 'null', 'null'], [24939068, 'P', 'G', 'null', 'null', 'null']]\n",
      "[[24939810, 'R', 'G', 'null', 'null', 'null']]\n",
      "[[24951583, 'G', 'C', 'null', 'null', 'null']]\n",
      "[[26769449, 'A', 'G', 'null', 'null', 'null']]\n",
      "[[26771541, 'V', 'T', 'null', 'null', 'null'], [26771542, 'V', 'A', 'null', 'null', 'null']]\n",
      "[[26840660, 'S', 'A', 'null', 'null', 'null']]\n",
      "[[26849197, 'N', 'G', 'null', 'null', 'null'], [26849198, 'N', 'T', 'null', 'null', 'null']]\n",
      "[[26875318, 'W', 'C', 'C', 'C', '*'], [26875319, 'W', 'C', 'L', 'S', '*'], [26875320, 'W', 'A', 'R', 'G', 'R'], [26875321, 'W', 'C', 'null', 'null', 'null']]\n",
      "[[26875322, 'R', 'C', 'null', 'null', 'null'], [26875323, 'R', 'T', 'null', 'null', 'null']]\n",
      "[[26877688, 'W', 'C', 'null', 'null', 'null'], [26877689, 'W', 'A', 'null', 'null', 'null']]\n",
      "[[26908065, 'G', 'C', 'null', 'null', 'null'], [26908066, 'G', 'C', 'null', 'null', 'null']]\n",
      "[[27620191, 'R', 'C', 'null', 'null', 'null'], [27620192, 'R', 'T', 'null', 'null', 'null']]\n",
      "[[27620268, 'A', 'T', 'null', 'null', 'null'], [27620269, 'A', 'G', 'null', 'null', 'null']]\n",
      "[[28310335, 'F', 'G', 'null', 'null', 'null']]\n",
      "[[28315090, 'C', 'C', 'null', 'null', 'null'], [28315091, 'C', 'A', 'null', 'null', 'null']]\n",
      "[[28315160, 'F', 'A', 'null', 'null', 'null'], [28315161, 'F', 'A', 'null', 'null', 'null']]\n",
      "[[29115472, 'V', 'A', 'null', 'null', 'null'], [29115473, 'V', 'A', 'null', 'null', 'null']]\n",
      "[[29120874, 'N', 'T', 'null', 'null', 'null'], [29120875, 'N', 'T', 'null', 'null', 'null']]\n",
      "[[29120965, 'V', 'C', 'null', 'null', 'null']]\n",
      "[[29121354, 'E', 'T', 'null', 'null', 'null'], [29121355, 'E', 'T', 'null', 'null', 'null']]\n",
      "[[29126408, 'K', 'T', 'null', 'null', 'null']]\n",
      "[[29169765, 'E', 'G', 'null', 'null', 'null'], [29169766, 'E', 'A', 'null', 'null', 'null']]\n",
      "[[29176936, 'R', 'T', 'null', 'null', 'null']]\n",
      "[[29191532, 'I', 'A', 'null', 'null', 'null'], [29191533, 'I', 'A', 'null', 'null', 'null']]\n",
      "[[29611619, 'A', 'G', 'null', 'null', 'null']]\n",
      "[[29621122, 'V', 'T', 'null', 'null', 'null'], [29621123, 'V', 'T', 'null', 'null', 'null']]\n",
      "[[29669853, 'G', 'G', 'null', 'null', 'null']]\n",
      "[[29670254, 'V', 'T', 'null', 'null', 'null'], [29670255, 'V', 'A', 'null', 'null', 'null']]\n",
      "[[29687551, 'G', 'C', 'null', 'null', 'null']]\n",
      "[[29687552, 'S', 'A', 'null', 'null', 'null'], [29687553, 'S', 'G', 'null', 'null', 'null']]\n",
      "[[29687554, 'G', 'C', 'null', 'null', 'null']]\n",
      "[[29708485, '*', 'G', 'null', 'null', 'null'], [29708486, '*', 'A', 'null', 'null', 'null'], [29709290, '*', 'T', 'C', 'C', 'W'], [29709291, '*', 'C', 'L', 'S', '*'], [29709292, '*', 'A', 'R', 'G', 'R']]\n",
      "[[30419471, 'W', 'T', 'null', 'null', 'null'], [30419472, 'W', 'G', 'null', 'null', 'null']]\n",
      "[[30421619, 'R', 'G', 'null', 'null', 'null']]\n",
      "[[30700619, 'A', 'C', 'null', 'null', 'null']]\n",
      "[[30700620, 'R', 'C', 'null', 'null', 'null'], [30700621, 'R', 'T', 'null', 'null', 'null']]\n",
      "[[30812392, 'Y', 'T', 'null', 'null', 'null']]\n",
      "[[30812393, 'C', 'G', 'null', 'null', 'null'], [30812394, 'C', 'T', 'null', 'null', 'null']]\n",
      "[[30818266, 'Y', 'A', 'null', 'null', 'null'], [30818267, 'Y', 'T', 'null', 'null', 'null']]\n",
      "[[30823389, 'R', 'A', 'null', 'null', 'null'], [30823390, 'R', 'G', 'null', 'null', 'null']]\n",
      "[[30885864, '*', 'C', 'null', 'null', 'null'], [30885865, '*', 'T', 'null', 'null', 'null'], [30886094, '*', 'T', 'C', 'C', 'W'], [30886095, '*', 'C', 'L', 'S', '*'], [30886096, '*', 'A', 'R', 'G', 'R']]\n",
      "[[30886232, 'Y', 'A', 'null', 'null', 'null'], [30886233, 'Y', 'T', 'null', 'null', 'null']]\n",
      "[[30887560, '*', 'A', 'null', 'null', 'null']]\n",
      "[[30968817, 'L', 'C', 'null', 'null', 'null']]\n",
      "[[31008948, 'W', 'T', 'null', 'null', 'null']]\n",
      "[[31008949, 'C', 'G', 'null', 'null', 'null'], [31008950, 'C', 'T', 'null', 'null', 'null']]\n",
      "[[31009029, 'G', 'G', 'null', 'null', 'null']]\n",
      "[[31010336, 'W', 'G', 'null', 'null', 'null'], [31010337, 'W', 'G', 'null', 'null', 'null']]\n",
      "[[31061480, 'N', 'A', 'null', 'null', 'null'], [31061481, 'N', 'T', 'null', 'null', 'null']]\n",
      "[[31090330, 'R', 'A', 'null', 'null', 'null'], [31090331, 'R', 'G', 'null', 'null', 'null']]\n",
      "[[31137356, 'D', 'G', 'null', 'null', 'null']]\n",
      "[[31284326, 'R', 'A', 'null', 'null', 'null'], [31284327, 'R', 'G', 'null', 'null', 'null']]\n",
      "[[31285164, 'S', 'C', 'null', 'null', 'null']]\n",
      "[[31302050, 'E', 'G', '*', 'Q', 'K'], [31302051, 'E', 'A', 'V', 'A', 'G'], [31302052, 'E', 'G', 'D', 'D', 'E'], [31302053, 'E', 'G', '*', 'Q', 'K'], [31302054, 'E', 'A', 'V', 'A', 'G'], [31302055, 'E', 'A', 'D', 'D', 'E'], [31302056, 'E', 'G', 'null', 'null', 'null']]\n",
      "[[31302181, 'A', 'C', 'null', 'null', 'null'], [31302182, 'A', 'A', 'null', 'null', 'null']]\n",
      "[[31500302, 'E', 'G', 'null', 'null', 'null']]\n",
      "[[31621804, 'R', 'C', 'null', 'null', 'null'], [31621805, 'R', 'G', 'null', 'null', 'null']]\n",
      "[[31674283, 'R', 'A', 'null', 'null', 'null']]\n",
      "[[31679259, 'K', 'T', 'null', 'null', 'null'], [31679260, 'K', 'T', 'null', 'null', 'null']]\n",
      "[[31679270, 'G', 'T', 'null', 'null', 'null'], [31679271, 'G', 'C', 'G', 'G', 'G'], [31679272, 'G', 'C', 'V', 'A', 'E'], [31679273, 'G', 'C', 'W', 'R', 'R'], [31679274, 'G', 'C', 'null', 'null', 'null']]\n",
      "[[31685301, 'R', 'C', 'null', 'null', 'null'], [31685302, 'R', 'T', 'null', 'null', 'null']]\n",
      "[[31723294, 'E', 'T', 'null', 'null', 'null'], [31723295, 'E', 'T', 'null', 'null', 'null']]\n",
      "[[31724773, 'R', 'C', 'null', 'null', 'null'], [31724774, 'R', 'T', 'null', 'null', 'null']]\n",
      "[[31724844, 'G', 'A', 'null', 'null', 'null'], [31724845, 'G', 'C', 'null', 'null', 'null']]\n"
     ]
    },
    {
     "name": "stdout",
     "output_type": "stream",
     "text": [
      "[[32211198, 'D', 'G', 'null', 'null', 'null']]\n",
      "[[32211402, 'E', 'A', 'null', 'null', 'null'], [32211403, 'E', 'G', 'null', 'null', 'null']]\n",
      "[[32215008, 'D', 'A', 'null', 'null', 'null'], [32215009, 'D', 'T', 'null', 'null', 'null']]\n",
      "[[32334098, 'S', 'A', 'S', 'S', 'S'], [32334099, 'S', 'G', 'Y', 'C', 'F'], [32334100, 'S', 'A', 'T', 'A', 'P'], [32334101, 'S', 'G', 'null', 'null', 'null']]\n",
      "[[32590332, 'V', 'C', 'null', 'null', 'null']]\n",
      "[[32871110, 'S', 'A', 'null', 'null', 'null'], [32871111, 'S', 'G', 'null', 'null', 'null']]\n",
      "[[32871385, 'D', 'G', 'null', 'null', 'null']]\n",
      "[[32874968, 'S', 'T', 'null', 'null', 'null'], [32874969, 'S', 'T', 'T', 'A', 'P'], [32874970, 'S', 'C', 'Y', 'C', 'F'], [32874971, 'S', 'T', 'S', 'S', 'S']]\n",
      "[[36140251, 'E', 'T', 'null', 'null', 'null']]\n",
      "[[36146473, 'R', 'C', 'null', 'null', 'null'], [36146474, 'R', 'T', 'null', 'null', 'null']]\n",
      "[[36556717, 'E', 'C', 'null', 'null', 'null']]\n",
      "[[36598039, 'W', 'C', 'null', 'null', 'null'], [36598040, 'W', 'A', 'null', 'null', 'null']]\n",
      "[[37163905, 'G', 'T', 'null', 'null', 'null'], [37163906, 'G', 'C', 'null', 'null', 'null']]\n",
      "[[37171718, 'D', 'C', 'null', 'null', 'null']]\n",
      "[[37272115, 'K', 'A', 'null', 'null', 'null'], [37272116, 'K', 'A', 'null', 'null', 'null']]\n",
      "[[37463001, 'G', 'G', 'null', 'null', 'null'], [37463002, 'G', 'C', 'null', 'null', 'null']]\n",
      "[[37464656, 'C', 'A', 'null', 'null', 'null'], [37464657, 'C', 'G', '*', 'W', 'C'], [37464658, 'C', 'C', 'F', 'S', 'Y'], [37464659, 'C', 'A', 'S', 'G', 'R'], [37464660, 'C', 'A', '*', 'W', 'C'], [37464661, 'C', 'C', 'F', 'S', 'Y'], [37464662, 'C', 'A', 'S', 'G', 'R']]\n",
      "[[37464720, 'A', 'G', 'null', 'null', 'null'], [37464721, 'A', 'G', 'null', 'null', 'null']]\n",
      "[[37465113, 'G', 'C', 'null', 'null', 'null'], [37465114, 'G', 'G', 'G', 'G', 'G'], [37465115, 'G', 'C', 'V', 'A', 'D'], [37465116, 'G', 'C', 'C', 'R', 'S']]\n",
      "[[37876336, 'R', 'C', 'null', 'null', 'null'], [37876337, 'R', 'C', 'null', 'null', 'null']]\n",
      "[[37876759, 'G', 'C', 'null', 'null', 'null']]\n",
      "[[37881954, 'R', 'T', 'null', 'null', 'null']]\n",
      "[[38051933, 'S', 'G', 'null', 'null', 'null'], [38051934, 'S', 'T', 'null', 'null', 'null']]\n",
      "[[38052049, 'E', 'G', 'null', 'null', 'null'], [38052050, 'E', 'A', 'null', 'null', 'null']]\n",
      "[[38382161, 'N', 'C', 'null', 'null', 'null']]\n",
      "[[38382318, 'R', 'C', 'null', 'null', 'null'], [38382319, 'R', 'G', 'null', 'null', 'null']]\n",
      "[[38522455, 'Q', 'T', 'null', 'null', 'null'], [38522456, 'Q', 'T', 'null', 'null', 'null']]\n",
      "[[38524276, 'E', 'C', 'null', 'null', 'null']]\n",
      "[[38524436, 'L', 'A', 'null', 'null', 'null'], [38524437, 'L', 'A', 'null', 'null', 'null']]\n",
      "[[38525461, 'Q', 'G', 'null', 'null', 'null']]\n",
      "[[38878501, 'V', 'T', 'null', 'null', 'null'], [38878502, 'V', 'C', 'null', 'null', 'null']]\n",
      "[[38934616, 'G', 'A', 'null', 'null', 'null'], [38934617, 'G', 'C', 'null', 'null', 'null']]\n",
      "[[38935326, 'S', 'T', 'null', 'null', 'null']]\n",
      "[[38946001, 'V', 'C', 'null', 'null', 'null'], [38946002, 'V', 'A', 'null', 'null', 'null']]\n",
      "[[38948671, 'G', 'C', 'null', 'null', 'null']]\n",
      "[[39035660, 'V', 'C', 'null', 'null', 'null']]\n",
      "[[39146387, 'E', 'T', 'null', 'null', 'null'], [39146388, 'E', 'T', 'null', 'null', 'null']]\n",
      "[[39146903, 'G', 'C', 'null', 'null', 'null']]\n",
      "[[39497506, 'P', 'C', 'null', 'null', 'null'], [39497507, 'P', 'C', 'null', 'null', 'null']]\n",
      "[[39497923, 'E', 'A', 'null', 'null', 'null'], [39497924, 'E', 'G', 'null', 'null', 'null']]\n",
      "[[39824187, 'K', 'A', 'null', 'null', 'null'], [39824188, 'K', 'A', 'null', 'null', 'null']]\n",
      "[[39826020, 'N', 'C', 'null', 'null', 'null']]\n",
      "[[39832495, 'K', 'A', 'null', 'null', 'null']]\n",
      "[[40552185, 'Q', 'C', 'null', 'null', 'null'], [40552186, 'Q', 'A', 'null', 'null', 'null']]\n",
      "[[40805252, 'S', 'A', 'null', 'null', 'null'], [40805253, 'S', 'G', 'null', 'null', 'null']]\n",
      "[[40805254, 'N', 'T', 'null', 'null', 'null']]\n",
      "[[40807910, 'E', 'T', 'null', 'null', 'null'], [40807911, 'E', 'T', 'null', 'null', 'null']]\n",
      "[[40812980, 'R', 'C', 'null', 'null', 'null'], [40812981, 'R', 'T', 'null', 'null', 'null']]\n",
      "[[40812988, 'G', 'A', 'null', 'null', 'null'], [40812989, 'G', 'C', 'null', 'null', 'null']]\n",
      "[[40812990, 'E', 'C', 'null', 'null', 'null']]\n",
      "[[40859289, 'V', 'C', 'null', 'null', 'null'], [40859290, 'V', 'A', 'null', 'null', 'null']]\n",
      "[[41195027, 'G', 'C', 'null', 'null', 'null']]\n",
      "[[41265003, 'G', 'G', 'null', 'null', 'null'], [41265004, 'G', 'A', 'null', 'null', 'null']]\n",
      "[[41625660, 'I', 'A', 'null', 'null', 'null']]\n",
      "[[41626143, 'I', 'T', 'null', 'null', 'null'], [41626144, 'I', 'C', 'null', 'null', 'null'], [41626145, 'I', 'A', 'F', 'L', 'V'], [41626146, 'I', 'T', 'N', 'S', 'T'], [41626147, 'I', 'T', 'I', 'M', 'I']]\n",
      "[[41763603, 'D', 'G', 'null', 'null', 'null']]\n",
      "[[42306557, 'D', 'G', 'null', 'null', 'null'], [42306558, 'D', 'T', 'null', 'null', 'null']]\n",
      "[[42307220, 'G', 'C', 'null', 'null', 'null']]\n",
      "[[42339704, 'A', 'A', 'null', 'null', 'null'], [42339705, 'A', 'G', 'null', 'null', 'null']]\n",
      "[[42783037, 'E', 'C', 'null', 'null', 'null']]\n",
      "[[42793961, 'E', 'T', 'null', 'null', 'null'], [42793962, 'E', 'T', 'null', 'null', 'null']]\n",
      "[[42805552, 'D', 'G', 'null', 'null', 'null'], [42805553, 'D', 'T', 'null', 'null', 'null']]\n",
      "[[42807413, 'E', 'C', 'null', 'null', 'null']]\n",
      "[[42950048, 'D', 'G', 'null', 'null', 'null']]\n",
      "[[42950944, 'G', 'G', 'null', 'null', 'null'], [42950945, 'G', 'T', 'null', 'null', 'null']]\n",
      "[[42951351, 'G', 'G', 'null', 'null', 'null']]\n",
      "[[42951670, 'A', 'C', 'null', 'null', 'null'], [42951671, 'A', 'C', 'null', 'null', 'null']]\n",
      "[[43272339, 'S', 'A', 'null', 'null', 'null']]\n",
      "[[43272894, 'N', 'T', 'null', 'null', 'null'], [43272895, 'N', 'T', 'null', 'null', 'null']]\n",
      "[[43529460, 'K', 'C', 'null', 'null', 'null']]\n",
      "[[43529491, 'G', 'G', 'null', 'null', 'null'], [43529492, 'G', 'C', 'null', 'null', 'null']]\n",
      "[[44395553, 'V', 'G', 'null', 'null', 'null']]\n",
      "[[44420331, 'V', 'G', 'null', 'null', 'null']]\n",
      "[[44465042, 'M', 'A', 'null', 'null', 'null']]\n",
      "[[44489808, 'V', 'T', 'null', 'null', 'null'], [44489809, 'V', 'G', 'null', 'null', 'null']]\n",
      "[[45075764, 'R', 'A', 'null', 'null', 'null'], [45075765, 'R', 'G', 'null', 'null', 'null']]\n",
      "[[45182337, 'E', 'A', 'null', 'null', 'null'], [45182338, 'E', 'G', 'null', 'null', 'null']]\n",
      "[[45204977, 'R', 'A', 'null', 'null', 'null'], [45204978, 'R', 'G', 'null', 'null', 'null']]\n",
      "[[45210552, 'K', 'G', 'null', 'null', 'null']]\n",
      "[[45636521, 'G', 'C', 'null', 'null', 'null']]\n",
      "[[45681977, 'V', 'G', 'null', 'null', 'null']]\n",
      "[[45683053, 'A', 'C', 'null', 'null', 'null'], [45683054, 'A', 'C', 'null', 'null', 'null']]\n",
      "[[45685024, 'L', 'C', 'null', 'null', 'null']]\n",
      "[[45689062, 'V', 'T', 'null', 'null', 'null'], [45689063, 'V', 'C', 'null', 'null', 'null']]\n",
      "[[45810280, 'T', 'T', 'null', 'null', 'null']]\n",
      "[[45958792, 'T', 'C', 'null', 'null', 'null']]\n",
      "[[45960764, 'T', 'G', 'null', 'null', 'null']]\n",
      "[[45970391, 'T', 'G', 'null', 'null', 'null']]\n",
      "[[47188472, 'T', 'A', 'null', 'null', 'null'], [47188473, 'T', 'C', 'null', 'null', 'null']]\n",
      "[[48885516, 'S', 'A', 'null', 'null', 'null']]\n",
      "[[48972383, 'G', 'G', 'null', 'null', 'null']]\n",
      "[[49042409, 'S', 'G', 'null', 'null', 'null'], [49042410, 'S', 'T', 'null', 'null', 'null']]\n",
      "[[50014307, 'G', 'T', 'null', 'null', 'null'], [50014308, 'G', 'C', 'null', 'null', 'null']]\n",
      "[[50018583, 'D', 'G', 'null', 'null', 'null'], [50018584, 'D', 'T', 'null', 'null', 'null']]\n",
      "[[50315409, 'A', 'G', 'null', 'null', 'null']]\n",
      "[[50315945, 'V', 'T', 'null', 'null', 'null'], [50315946, 'V', 'C', 'null', 'null', 'null']]\n",
      "[[50528614, 'G', 'G', 'null', 'null', 'null']]\n",
      "[[50584238, 'R', 'A', 'null', 'null', 'null'], [50584239, 'R', 'G', 'null', 'null', 'null']]\n",
      "[[50599879, 'I', 'T', 'null', 'null', 'null'], [50599880, 'I', 'C', 'null', 'null', 'null']]\n",
      "[[50617650, 'L', 'A', 'null', 'null', 'null']]\n",
      "[[50617690, 'S', 'G', 'null', 'null', 'null'], [50617691, 'S', 'T', 'null', 'null', 'null']]\n",
      "[[50637545, 'K', 'A', 'null', 'null', 'null']]\n",
      "[[50857776, 'R', 'A', 'null', 'null', 'null'], [50857777, 'R', 'G', 'null', 'null', 'null']]\n",
      "[[50857778, 'S', 'G', 'null', 'null', 'null']]\n",
      "[[50877191, 'G', 'G', 'null', 'null', 'null']]\n",
      "[[50878127, 'A', 'C', 'null', 'null', 'null'], [50878128, 'A', 'A', 'null', 'null', 'null']]\n",
      "[[50964584, 'A', 'G', 'null', 'null', 'null'], [50964585, 'A', 'G', 'null', 'null', 'null']]\n",
      "[[50964675, 'G', 'C', 'null', 'null', 'null']]\n",
      "[[51042514, 'A', 'C', 'null', 'null', 'null'], [51042515, 'A', 'G', 'S', 'P', 'T'], [51042516, 'A', 'C', 'D', 'G', 'V'], [51042517, 'A', 'C', 'A', 'A', 'A']]\n"
     ]
    }
   ],
   "source": [
    "aa_pos={}\n",
    "# codon_pos, aa, nuc \n",
    "\n",
    "\n",
    "stack=[]\n",
    "curr_aa=\"\"\n",
    "errs=0\n",
    "for annot in annots:\n",
    "    pos=int(annot[0])\n",
    "    nuc=annot[1]\n",
    "    aa =annot[2] \n",
    "    \n",
    "    aa1=annot[3]\n",
    "    aa2=annot[4] \n",
    "    aa3=annot[5] \n",
    "    \n",
    "    # very beginning \n",
    "    if curr_aa==\"\":\n",
    "        curr_aa=aa\n",
    "        stack.append([pos,aa,nuc, aa1, aa2, aa3])\n",
    "    # it matches, add to the stack\n",
    "    elif curr_aa == aa:\n",
    "        stack.append([pos,aa,nuc, aa1, aa2, aa3])\n",
    "    # it doesn't match; check stack \n",
    "    elif curr_aa != aa:\n",
    "        num=len(stack)\n",
    "        if num % 3 == 0:\n",
    "            for idx in range(num):\n",
    "                curr=stack.pop()\n",
    "                aa_pos[curr[0]]=[idx%3, curr[1], curr[2], curr[3], curr[4], curr[5]]\n",
    "        else: \n",
    "            print(stack)\n",
    "            errs+=1\n",
    "\n",
    "        # reset everything \n",
    "        curr_aa=aa\n",
    "        stack = []\n",
    "        stack.append([pos,aa,nuc, aa1, aa2, aa3])"
   ]
  },
  {
   "cell_type": "code",
   "execution_count": 363,
   "metadata": {},
   "outputs": [],
   "source": [
    "%xdel annot"
   ]
  },
  {
   "cell_type": "markdown",
   "metadata": {},
   "source": [
    "# Syn/Nonsyn Lambda Analysis"
   ]
  },
  {
   "cell_type": "code",
   "execution_count": 196,
   "metadata": {},
   "outputs": [],
   "source": [
    "# read in file of lambdas outputted from mutpan, store in lambdas \n",
    "\n",
    "lambdas={}\n",
    "syns=[]\n",
    "nonsyns=[]\n",
    "totals=[]\n",
    "\n",
    "# chr_pos, syn, nonsyn, total \n",
    "file_lambdas=\"mutpan/lambdas_syn_nonsyn_Skin.txt\"\n",
    "with open(file_lambdas) as f:\n",
    "    for idx, line in enumerate(f):\n",
    "        if idx > 0 and line.strip() != \"\":\n",
    "            try:\n",
    "                t=line.split(\"\\t\")\n",
    "                pos=int(t[0].split(\"_\")[1])\n",
    "                syn=float(t[1])\n",
    "                nonsyn=float(t[2])\n",
    "                total=float(t[3])\n",
    "                \n",
    "                lambdas[pos] = [syn,nonsyn,total]\n",
    "                syns.append(syn)\n",
    "                nonsyns.append(nonsyn)\n",
    "                totals.append(total)\n",
    "                \n",
    "\n",
    "                if round(syn+nonsyn, 5) != round(total,5):\n",
    "                    print(pos, syn, nonsyn, total)\n",
    "            except:\n",
    "                print (line)"
   ]
  },
  {
   "cell_type": "code",
   "execution_count": 197,
   "metadata": {},
   "outputs": [
    {
     "data": {
      "text/plain": [
       "637807"
      ]
     },
     "execution_count": 197,
     "metadata": {},
     "output_type": "execute_result"
    }
   ],
   "source": [
    "len(lambdas)"
   ]
  },
  {
   "cell_type": "code",
   "execution_count": 198,
   "metadata": {},
   "outputs": [],
   "source": [
    "syn_higher=0\n",
    "ns_higher=0\n",
    "for pos in lambdas:\n",
    "    if lambdas[pos][0] > lambdas[pos][1]:\n",
    "        syn_higher +=1\n",
    "    else:\n",
    "        ns_higher += 1"
   ]
  },
  {
   "cell_type": "code",
   "execution_count": 199,
   "metadata": {},
   "outputs": [
    {
     "name": "stdout",
     "output_type": "stream",
     "text": [
      "217882 419925\n"
     ]
    }
   ],
   "source": [
    "print(syn_higher, ns_higher)"
   ]
  },
  {
   "cell_type": "code",
   "execution_count": 200,
   "metadata": {},
   "outputs": [
    {
     "data": {
      "text/plain": [
       "[2, 'L', 'C', 'M', 'V', 'L']"
      ]
     },
     "execution_count": 200,
     "metadata": {},
     "output_type": "execute_result"
    }
   ],
   "source": [
    "# pos, aa, nuc, aa1, aa2, aa3\n",
    "aa_pos[38875748]"
   ]
  },
  {
   "cell_type": "markdown",
   "metadata": {},
   "source": [
    "## Lambdas and Aa_pos analysis summary \n",
    "- Lambdas are taken from ComputeSignifcance.java, where each position in an exon is computed \n",
    "- AA_pos are taken from AnnotationsChr, where exons in Hg19 are annotated \n",
    "\n",
    "- Missing/discrepancies between the two: \n",
    "    - AAs can be missing in regions where codons are incomplete (i.e., ends on a frame of 2 instead of 3), or there are regions missing in the middle of the sequence (amount: 243) \n",
    "    - Values in lambdas but not in aa_pos (amount: 2916) \n",
    "\n",
    "- Segment lengths \n",
    "    - Both AA and Lambda positions have average continuous segments of ~100. This should be enough for looking at 9mers (nonapeptide size). \n",
    "   "
   ]
  },
  {
   "cell_type": "code",
   "execution_count": 110,
   "metadata": {},
   "outputs": [],
   "source": [
    "lol=sorted(aa_pos.keys())\n",
    "haha=[int(x) for x in lol]"
   ]
  },
  {
   "cell_type": "code",
   "execution_count": 201,
   "metadata": {},
   "outputs": [
    {
     "name": "stdout",
     "output_type": "stream",
     "text": [
      "2916\n"
     ]
    }
   ],
   "source": [
    "missing=0\n",
    "for key in lambdas:\n",
    "    if int(key) not in aa_pos:\n",
    "        missing+=1\n",
    "        \n",
    "print(missing)"
   ]
  },
  {
   "cell_type": "code",
   "execution_count": 202,
   "metadata": {},
   "outputs": [],
   "source": [
    "segments=[]\n",
    "counter=0\n",
    "prev=haha[0]\n",
    "for i in haha:\n",
    "    if prev+1==i and prev+1 in aa_pos: \n",
    "        counter+=1\n",
    "    else:\n",
    "        segments.append(counter)\n",
    "        counter=0\n",
    "        \n",
    "    prev = i"
   ]
  },
  {
   "cell_type": "code",
   "execution_count": 206,
   "metadata": {},
   "outputs": [
    {
     "data": {
      "text/plain": [
       "16258193"
      ]
     },
     "execution_count": 206,
     "metadata": {},
     "output_type": "execute_result"
    }
   ],
   "source": [
    "haha[1]"
   ]
  },
  {
   "cell_type": "code",
   "execution_count": 203,
   "metadata": {},
   "outputs": [
    {
     "data": {
      "text/plain": [
       "True"
      ]
     },
     "execution_count": 203,
     "metadata": {},
     "output_type": "execute_result"
    }
   ],
   "source": [
    "haha[1]==haha[0]+1"
   ]
  },
  {
   "cell_type": "code",
   "execution_count": 129,
   "metadata": {},
   "outputs": [
    {
     "name": "stdout",
     "output_type": "stream",
     "text": [
      "699189 637807\n"
     ]
    }
   ],
   "source": [
    "print(len(aa_pos), len(lambdas))"
   ]
  },
  {
   "cell_type": "code",
   "execution_count": 127,
   "metadata": {},
   "outputs": [
    {
     "data": {
      "text/plain": [
       "100.14287979701871"
      ]
     },
     "execution_count": 127,
     "metadata": {},
     "output_type": "execute_result"
    }
   ],
   "source": [
    "np.average(segments)"
   ]
  },
  {
   "cell_type": "code",
   "execution_count": 128,
   "metadata": {},
   "outputs": [
    {
     "data": {
      "text/plain": [
       "(array([44.,  4., 10., 10.,  8.,  4.,  5.,  3.,  1.,  3.,  1.,  0.,  1.,\n",
       "         0.,  1.,  0.,  0.,  0.,  1.,  0.,  0.,  0.,  0.,  2.,  0.,  0.,\n",
       "         0.,  0.,  0.,  1.,  0.,  0.,  0.,  0.,  0.,  0.,  0.,  0.,  0.,\n",
       "         0.,  0.,  0.,  0.,  0.,  0.,  0.,  0.,  0.,  0.,  1.]),\n",
       " array([   0.  ,   33.48,   66.96,  100.44,  133.92,  167.4 ,  200.88,\n",
       "         234.36,  267.84,  301.32,  334.8 ,  368.28,  401.76,  435.24,\n",
       "         468.72,  502.2 ,  535.68,  569.16,  602.64,  636.12,  669.6 ,\n",
       "         703.08,  736.56,  770.04,  803.52,  837.  ,  870.48,  903.96,\n",
       "         937.44,  970.92, 1004.4 , 1037.88, 1071.36, 1104.84, 1138.32,\n",
       "        1171.8 , 1205.28, 1238.76, 1272.24, 1305.72, 1339.2 , 1372.68,\n",
       "        1406.16, 1439.64, 1473.12, 1506.6 , 1540.08, 1573.56, 1607.04,\n",
       "        1640.52, 1674.  ]),\n",
       " <a list of 50 Patch objects>)"
      ]
     },
     "execution_count": 128,
     "metadata": {},
     "output_type": "execute_result"
    },
    {
     "data": {
      "image/png": "[encoded data removed]",
      "text/plain": [
       "<Figure size 432x288 with 1 Axes>"
      ]
     },
     "metadata": {
      "needs_background": "light"
     },
     "output_type": "display_data"
    }
   ],
   "source": [
    "plt.hist(segments[:100],bins=50)"
   ]
  },
  {
   "cell_type": "code",
   "execution_count": 143,
   "metadata": {},
   "outputs": [
    {
     "data": {
      "text/plain": [
       "[2, 'D', 'G']"
      ]
     },
     "execution_count": 143,
     "metadata": {},
     "output_type": "execute_result"
    }
   ],
   "source": [
    "aa_pos[44286993]"
   ]
  },
  {
   "cell_type": "code",
   "execution_count": 364,
   "metadata": {},
   "outputs": [],
   "source": [
    "%xdel segments"
   ]
  },
  {
   "cell_type": "markdown",
   "metadata": {},
   "source": [
    "## Get lambda values for nonapeptides"
   ]
  },
  {
   "cell_type": "code",
   "execution_count": 209,
   "metadata": {},
   "outputs": [],
   "source": [
    "## nonapeptides, 9mers, = 9 x 3 = 27 nucleotides \n",
    "## current AA = 1; 4 AAs on each side = 3x4 = 12 nucleotides on each side \n",
    "\n",
    "window=12 \n",
    "\n",
    "exons=sorted(lambdas.keys())\n",
    "\n",
    "# keyed by position \n",
    "# [syn_lambda, ns_lambda, aa_sequence, nuc_sequence]\n",
    "significance={}\n",
    "for pos, counter in enumerate(exons):\n",
    "    if counter%100000==0:\n",
    "        print(str(counter) +\"out of\"+ str(len(exons)))\n",
    "        \n",
    "    if pos in aa_pos: \n",
    "\n",
    "        # AA_POS:  pos-->[codon_pos, aa, nuc]\n",
    "        # LAMDBAS: pos-->[syn, nonsyn, total]\n",
    "        curr=aa_pos[pos]\n",
    "        codon_pos=curr[0]\n",
    "        aa=curr[1]\n",
    "        nuc=curr[2]\n",
    "        start=0\n",
    "        end=0 \n",
    "\n",
    "        if codon_pos == 0:\n",
    "            start = (pos-2)-window\n",
    "            end   = (pos)+window\n",
    "        elif codon_pos == 1:\n",
    "            start = (pos-1)-window\n",
    "            end   = (pos+1)+window\n",
    "        elif codon_pos == 2: \n",
    "            start = (pos)-window\n",
    "            end   = (pos+2)+window\n",
    "\n",
    "        syn_sum = 0\n",
    "        nonsyn_sum=0\n",
    "        cur_aa_seq = []\n",
    "        cur_nuc_seq = []\n",
    "\n",
    "        aa_counter = 0\n",
    "        complete = True\n",
    "        for idx in range(start, end):\n",
    "            # TODO: to relax constraints, maybe set lambda=0 when DNE? \n",
    "\n",
    "            # complete makes sure we only check for continuous positions\n",
    "            if complete and idx in aa_pos and idx in lambdas:\n",
    "\n",
    "                _curr      = aa_pos[idx]\n",
    "                _codon_pos = _curr[0]\n",
    "                _aa        = _curr[1]\n",
    "                _nuc       = _curr[2]\n",
    "                _syn      = lambdas[idx][0]\n",
    "                _nonsyn   = lambdas[idx][1]\n",
    "\n",
    "                cur_nuc_seq.append(_nuc)\n",
    "                syn_sum += _syn \n",
    "                nonsyn_sum += _nonsyn\n",
    "\n",
    "                # only add the aa to sequence every 3 steps \n",
    "                if aa_counter % 3==0: \n",
    "                    cur_aa_seq.append(_aa)\n",
    "                aa_counter+=1\n",
    "            else: \n",
    "                complete = False \n",
    "        # store in significance{} if complete! \n",
    "        if complete: \n",
    "            aa_seq=\"\"\n",
    "            nuc_seq=\"\"\n",
    "            a=len(cur_aa_seq)\n",
    "            n=len(cur_nuc_seq)\n",
    "            for i in range(a):\n",
    "                aa_seq+=cur_aa_seq.pop()\n",
    "\n",
    "            for i in range(n):\n",
    "                nuc_seq+=cur_nuc_seq.pop()\n",
    "\n",
    "            significance[pos] = [syn_sum, nonsyn_sum, aa_seq, nuc_seq]"
   ]
  },
  {
   "cell_type": "markdown",
   "metadata": {},
   "source": [
    "### Identify regions where lambda_ns > lambda_s"
   ]
  },
  {
   "cell_type": "code",
   "execution_count": 527,
   "metadata": {},
   "outputs": [],
   "source": [
    "# significance [pos]: \n",
    "# syn, nonsyn, aa, nuc\n",
    "\n",
    "potentials=[]\n",
    "diff=[]\n",
    "for key in significance:\n",
    "    value= significance[key]\n",
    "    \n",
    "    # get values that have a value greater than the average difference\n",
    "    # between lambda_ns and lambda_s values \n",
    "    if value[0]-value[1] > 17:\n",
    "        potentials.append([key, value[0], value[1], value[2], value[3]])\n",
    "    #get difference \n",
    "    if value[0] > value[1]:\n",
    "        diff.append(value[0]-value[1])"
   ]
  },
  {
   "cell_type": "code",
   "execution_count": 393,
   "metadata": {},
   "outputs": [
    {
     "data": {
      "text/plain": [
       "537510"
      ]
     },
     "execution_count": 393,
     "metadata": {},
     "output_type": "execute_result"
    }
   ],
   "source": [
    "len(significance)"
   ]
  },
  {
   "cell_type": "code",
   "execution_count": 533,
   "metadata": {},
   "outputs": [
    {
     "data": {
      "text/plain": [
       "Text(0.5, 0, 'lambda_syn - lambda_ns')"
      ]
     },
     "execution_count": 533,
     "metadata": {},
     "output_type": "execute_result"
    },
    {
     "data": {
      "image/png": "[encoded data removed]",
      "text/plain": [
       "<Figure size 432x288 with 1 Axes>"
      ]
     },
     "metadata": {
      "needs_background": "light"
     },
     "output_type": "display_data"
    }
   ],
   "source": [
    "plt.title(\"Distribution of of differences in sites where lambda_syn > lambda_ns\")\n",
    "plt.hist(diff)\n",
    "plt.xlabel(\"lambda_syn - lambda_ns\")"
   ]
  },
  {
   "cell_type": "markdown",
   "metadata": {},
   "source": [
    "### CONTROLS: get values where ns > syn "
   ]
  },
  {
   "cell_type": "code",
   "execution_count": 529,
   "metadata": {},
   "outputs": [
    {
     "data": {
      "text/plain": [
       "38613"
      ]
     },
     "execution_count": 529,
     "metadata": {},
     "output_type": "execute_result"
    }
   ],
   "source": [
    "# get this many random samples of NS>SYN for control\n",
    "len(potentials)"
   ]
  },
  {
   "cell_type": "code",
   "execution_count": 530,
   "metadata": {},
   "outputs": [
    {
     "name": "stdout",
     "output_type": "stream",
     "text": [
      "101109 436401\n"
     ]
    }
   ],
   "source": [
    "ns_greater=0\n",
    "sy_greater=0\n",
    "for key in significance:\n",
    "    value= significance[key]\n",
    "    \n",
    "    if value[0] > value[1]:\n",
    "        sy_greater+=1\n",
    "    elif value[1] > value[0]:\n",
    "        ns_greater+=1\n",
    "print(sy_greater, ns_greater)"
   ]
  },
  {
   "cell_type": "code",
   "execution_count": 412,
   "metadata": {},
   "outputs": [],
   "source": [
    "# significance [pos]: \n",
    "# syn, nonsyn, aa, nuc\n",
    "\n",
    "temp=[]\n",
    "for key in significance:\n",
    "    value= significance[key]\n",
    "\n",
    "    if value[1] > value[0] or value[1] == value[0]:\n",
    "        temp.append(key)\n",
    "        \n",
    "t=random.sample(temp, len(potentials))\n",
    "        \n",
    "controls=[]\n",
    "for pos in t: \n",
    "    value= significance[pos]\n",
    "    controls.append([pos, value[0], value[1], value[2], value[3]])\n"
   ]
  },
  {
   "cell_type": "code",
   "execution_count": 253,
   "metadata": {},
   "outputs": [
    {
     "name": "stdout",
     "output_type": "stream",
     "text": [
      "average difference between lambda_ns and lambda_s: \n",
      "17.057099419911054\n"
     ]
    }
   ],
   "source": [
    "print(\"average difference between lambda_ns and lambda_s: \")\n",
    "print(np.average(diff))"
   ]
  },
  {
   "cell_type": "code",
   "execution_count": 531,
   "metadata": {},
   "outputs": [],
   "source": [
    "# significance [pos]: \n",
    "# syn, nonsyn, aa, nuc\n",
    "\n",
    "diff_ns=[]\n",
    "for key in significance:\n",
    "    value= significance[key]\n",
    "    \n",
    "    # get values that have a value greater than the average difference\n",
    "    # between lambda_ns and lambda_s values \n",
    "    if value[1] > value[0]:\n",
    "        diff_ns.append(value[1]-value[0])"
   ]
  },
  {
   "cell_type": "code",
   "execution_count": 536,
   "metadata": {},
   "outputs": [
    {
     "data": {
      "image/png": "[encoded data removed]",
      "text/plain": [
       "<Figure size 720x360 with 2 Axes>"
      ]
     },
     "metadata": {
      "needs_background": "light"
     },
     "output_type": "display_data"
    }
   ],
   "source": [
    "plt.figure(figsize=(10,5))\n",
    "plt.subplot(1, 2, 1)\n",
    "plt.hist(diff)\n",
    "plt.title(\"Sites where lambda_syn > lambda_ns\")\n",
    "plt.xlabel(\"lambda_syn - lambda_ns\")\n",
    "\n",
    "\n",
    "\n",
    "plt.subplot(1, 2, 2)\n",
    "plt.hist(diff_ns)\n",
    "plt.title(\"Sites where lambda_ns > lambda_syn\")\n",
    "plt.xlabel(\"lambda_ns-lambda_syn\")\n",
    "plt.tight_layout()\n",
    "plt.show()\n",
    "\n",
    "\n",
    "\n"
   ]
  },
  {
   "cell_type": "code",
   "execution_count": 537,
   "metadata": {},
   "outputs": [],
   "source": [
    "# get general distr. of lambda values\n",
    "\n",
    "# significance [pos]: \n",
    "# syn, nonsyn, aa, nuc\n",
    "\n",
    "s=[]\n",
    "ns=[]\n",
    "for key in significance:\n",
    "    value= significance[key]\n",
    "    s.append(value[0])\n",
    "    ns.append(value[1])"
   ]
  },
  {
   "cell_type": "code",
   "execution_count": 547,
   "metadata": {},
   "outputs": [
    {
     "data": {
      "image/png": "[encoded data removed]",
      "text/plain": [
       "<Figure size 720x360 with 2 Axes>"
      ]
     },
     "metadata": {
      "needs_background": "light"
     },
     "output_type": "display_data"
    }
   ],
   "source": [
    "plt.figure(figsize=(10,5))\n",
    "plt.subplot(1, 2, 1)\n",
    "plt.plot(s[500:800])\n",
    "plt.title(\"Lambda value for synonymous positions\")\n",
    "plt.ylabel(\"Lambda_s\")\n",
    "plt.xlabel(\"Positions\")\n",
    "\n",
    "\n",
    "plt.subplot(1, 2, 2)\n",
    "plt.plot(ns[500:800])\n",
    "plt.title(\"Lambda value for nonsynonymous positions\")\n",
    "plt.ylabel(\"Lambda_ns\")\n",
    "plt.xlabel(\"Positions\")\n",
    "plt.tight_layout()\n",
    "plt.show()\n",
    "\n",
    "\n",
    "\n"
   ]
  },
  {
   "cell_type": "code",
   "execution_count": null,
   "metadata": {},
   "outputs": [],
   "source": []
  },
  {
   "cell_type": "markdown",
   "metadata": {},
   "source": [
    "### Get possible mutated nonapeptides per region \n",
    "\n",
    "Looking at the center peptide, what are its variants? \n",
    "Generate all (max of 9) mutated peptides, and check value through netMHC"
   ]
  },
  {
   "cell_type": "code",
   "execution_count": 416,
   "metadata": {},
   "outputs": [],
   "source": [
    "def get_neoantigens(potentials, file_out):\n",
    "    # nucleotide key, possible aa's values\n",
    "    # neoantigens[key][0] is always the \"current\" value\n",
    "    neoantigens={}\n",
    "    for idx, arr in enumerate(potentials):\n",
    "        pos=arr[0]\n",
    "        syn=arr[1]\n",
    "        nsyn=arr[2]\n",
    "        aa =arr[3]\n",
    "        nuc=arr[4]\n",
    "\n",
    "        neoantigens[pos] = [potentials[idx][3]]\n",
    "        for mut in aa_pos[pos][2:5]:\n",
    "            mutated_peptide=potentials[idx][3][:4]+mut+potentials[idx][3][5:]\n",
    "            if mutated_peptide not in neoantigens[pos]:\n",
    "                neoantigens[pos].append(mutated_peptide)\n",
    "                \n",
    "    # file_out='neoantigens.fasta'\n",
    "    with open(file_out, 'w') as outf:\n",
    "        for pos in neoantigens:\n",
    "            # if there is only one, then there are no possible \n",
    "            # NS mutations at that codon pos\n",
    "            if len(neoantigens[pos]) > 1:\n",
    "                outf.write(\">\" + str(pos)+\"_org\\n\")\n",
    "                outf.write(neoantigens[pos][0] + \"\\n\")\n",
    "                for pep in neoantigens[pos][1:]:\n",
    "                    outf.write(\">\"+str(pos)+\"_mut\\n\")\n",
    "                    outf.write(pep + \"\\n\")"
   ]
  },
  {
   "cell_type": "code",
   "execution_count": 466,
   "metadata": {},
   "outputs": [],
   "source": [
    "get_neoantigens(controls, 'controls.fasta')"
   ]
  },
  {
   "cell_type": "markdown",
   "metadata": {},
   "source": [
    "## Analyze NetMHC-4.0 output\n",
    "\n",
    "Number of columns: \n",
    "- 15: labels \n",
    "- 14: values when NOT strong/weak bind \n",
    "- 16: values when strong or weak bind (extra '=>' at index 14)\n",
    "- 18: English text explaining findings \n",
    "\n",
    "NetMHC-4.0 info:\n",
    "- Affinity Threshold for Strong binding peptides  50.000\n",
    "- Affinity Threshold for Weak binding peptides 500.000\n",
    "- Rank Threshold for Strong binding peptides   0.500\n",
    "- Rank Threshold for Weak binding peptides   2.000"
   ]
  },
  {
   "cell_type": "code",
   "execution_count": 459,
   "metadata": {},
   "outputs": [],
   "source": [
    "# pos          \n",
    "# HLA         \n",
    "# peptide          2\n",
    "# Identity        10\n",
    "# 1-log50k(aff)   11\n",
    "# Affinity(nM)    12\n",
    "# %Rank           13  \n",
    "# BindLevel       14, 15\n",
    "def analyze_mhc(file):\n",
    "    # dictionary of all netmhc output\n",
    "    # pos: [peptide, rank, bindlvl]\n",
    "    binders={}\n",
    "    with open(file) as f:\n",
    "        for idx, line in enumerate(f):\n",
    "            if line[0] not in [\"-\", \"#\"] and line.strip() != \"\":\n",
    "                line=line.strip()\n",
    "                t = [x.strip() for x in line.split(' ') if x.strip() != \"\"]\n",
    "\n",
    "                # file contains values \n",
    "                if len(t) in [14, 16]:\n",
    "                    peptide  = t[2]\n",
    "                    ident    = t[10]\n",
    "                    affinity = float(t[12])\n",
    "                    rank     = float(t[13])\n",
    "                    bindlvl  = t[15] if len(t) == 16 else 'NA'\n",
    "\n",
    "                    # current peptide \n",
    "                    if 'org' in ident: \n",
    "                        pos=int(ident.split(\"_\")[0])\n",
    "                        if pos in binders:\n",
    "                            # if we have repeats, make sure their numbers line up \n",
    "                            if binders[pos][1][1] != rank:\n",
    "                                print(\"Err: \", pos)\n",
    "                        else: \n",
    "                            binders[pos]=[[peptide, rank, bindlvl, affinity]]\n",
    "\n",
    "                    # mutated peptide--only add if binding is at least weak or strong!  \n",
    "                    elif len(t) == 16:\n",
    "                        pos=int(ident.split(\"_\")[0])\n",
    "                        if pos in binders:\n",
    "                            binders[pos].append([peptide, rank, bindlvl, affinity])\n",
    "                        else: \n",
    "                            print(\"Err: not found\", pos)\n",
    "                            \n",
    "    rm=[]\n",
    "    for pos in binders:\n",
    "        if len(binders[pos])==1:\n",
    "            rm.append(pos)\n",
    "\n",
    "    for pos in rm:\n",
    "        binders.pop(pos)\n",
    "        \n",
    "    return binders"
   ]
  },
  {
   "cell_type": "code",
   "execution_count": 460,
   "metadata": {},
   "outputs": [],
   "source": [
    "def compute_org_vs_mut(binders):\n",
    "    # how many have mutated > original \n",
    "    num_gr_original=0\n",
    "    # how many are high binding \n",
    "    sb={'WB':0,'SB':0,'NA':0}\n",
    "    o_sb={'WB':0,'SB':0,'NA':0}\n",
    "    # average binding rank \n",
    "    ranks=[]\n",
    "    o_ranks=[]\n",
    "    # average binding affinity...NOTE: SMALLER=BETTER (STRONGER BOND)\n",
    "    aff=[]\n",
    "    o_affs=[]\n",
    "    # 0: peptide\n",
    "    # 1: rank\n",
    "    # 2: binding lvl\n",
    "    # 3: affinity\n",
    "    for pos in binders:\n",
    "        peps=binders[pos]\n",
    "        org_rank=peps[0][1]\n",
    "        added=0\n",
    "        o_ranks.append(org_rank)\n",
    "        o_sb[peps[0][2]]+=1\n",
    "        o_affs.append(peps[0][3])\n",
    "        for pep in peps[1:]:\n",
    "            sb[pep[2]]+=1\n",
    "            ranks.append(pep[1])\n",
    "            aff.append(pep[3])\n",
    "\n",
    "        for pep in peps[1:]:\n",
    "            if pep[1] < org_rank:\n",
    "                num_gr_original+=1\n",
    "                break\n",
    "    print(\"Number of potentials: \", len(potentials))\n",
    "    print(\"Number of binders: \", len(binders))\n",
    "    print(\"\")\n",
    "    print(\"Number mutated peptides > original: \", num_gr_original)\n",
    "    print(\"\")\n",
    "    print(\"Average original rank: \", np.average(o_ranks))\n",
    "    print(\"Average mutated rank: \", np.average(ranks))\n",
    "    print(\"\")\n",
    "    print(\"Average original affinity: \", np.average(o_affs))\n",
    "    print(\"Average mutated affinity: \", np.average(aff))\n",
    "    print(\"\")\n",
    "    print(\"Binding level counts original: \", o_sb)\n",
    "    print(\"Binding level counts mutated: \", sb)"
   ]
  },
  {
   "cell_type": "code",
   "execution_count": 471,
   "metadata": {},
   "outputs": [
    {
     "name": "stdout",
     "output_type": "stream",
     "text": [
      "NameError: name 'binders_p' is not defined\n"
     ]
    }
   ],
   "source": [
    "%xdel binders_c\n",
    "%xdel binders_p"
   ]
  },
  {
   "cell_type": "code",
   "execution_count": 472,
   "metadata": {},
   "outputs": [
    {
     "name": "stdout",
     "output_type": "stream",
     "text": [
      "Number of potentials:  38613\n",
      "Number of binders:  290\n",
      "\n",
      "Number mutated peptides > original:  215\n",
      "\n",
      "Average original rank:  1.7176896551724137\n",
      "Average mutated rank:  0.9284550084889643\n",
      "\n",
      "Average original affinity:  360.5326206896551\n",
      "Average mutated affinity:  101.68268251273345\n",
      "\n",
      "Binding level counts original:  {'WB': 139, 'SB': 85, 'NA': 66}\n",
      "Binding level counts mutated:  {'WB': 384, 'SB': 205, 'NA': 0}\n"
     ]
    }
   ],
   "source": [
    "binders_ns=analyze_mhc(\"long_controls.out\")\n",
    "compute_org_vs_mut(binders_ns)"
   ]
  },
  {
   "cell_type": "code",
   "execution_count": 473,
   "metadata": {},
   "outputs": [
    {
     "name": "stdout",
     "output_type": "stream",
     "text": [
      "Number of potentials:  38613\n",
      "Number of binders:  1011\n",
      "\n",
      "Number mutated peptides > original:  731\n",
      "\n",
      "Average original rank:  1.0824629080118695\n",
      "Average mutated rank:  0.7841508560851459\n",
      "\n",
      "Average original affinity:  143.97851632047477\n",
      "Average mutated affinity:  82.92408144377603\n",
      "\n",
      "Binding level counts original:  {'WB': 504, 'SB': 358, 'NA': 149}\n",
      "Binding level counts mutated:  {'WB': 1197, 'SB': 964, 'NA': 0}\n"
     ]
    }
   ],
   "source": [
    "binders_syn=analyze_mhc(\"long.out\")\n",
    "compute_org_vs_mut(binders_syn)"
   ]
  },
  {
   "cell_type": "code",
   "execution_count": 501,
   "metadata": {},
   "outputs": [],
   "source": [
    "# plot difference in syn:nonsyn vs. binding levels \n",
    "diffs=[]\n",
    "min_binding=[]\n",
    "\n",
    "for pos in binders_syn:\n",
    "    arr=binders_syn[pos]\n",
    "    ranks=[]\n",
    "    # for each mutated peptide\n",
    "    for i in arr[1:]:\n",
    "        ranks.append(i[3])\n",
    "    min_binding.append(min(ranks))\n",
    "    diffs.append(significance[pos][0]-significance[pos][1])"
   ]
  },
  {
   "cell_type": "code",
   "execution_count": 481,
   "metadata": {},
   "outputs": [
    {
     "name": "stdout",
     "output_type": "stream",
     "text": [
      "1011 1011\n"
     ]
    }
   ],
   "source": [
    "print(len(diffs), len(min_binding))"
   ]
  },
  {
   "cell_type": "code",
   "execution_count": 498,
   "metadata": {},
   "outputs": [
    {
     "data": {
      "text/plain": [
       "Text(0, 0.5, 'Binding Affinity (nM)')"
      ]
     },
     "execution_count": 498,
     "metadata": {},
     "output_type": "execute_result"
    },
    {
     "data": {
      "image/png": "[encoded data removed]",
      "text/plain": [
       "<Figure size 864x576 with 1 Axes>"
      ]
     },
     "metadata": {
      "needs_background": "light"
     },
     "output_type": "display_data"
    }
   ],
   "source": [
    "plt.figure(figsize=(12,8))\n",
    "plt.scatter(diffs, min_binding)\n",
    "plt.title(\"Nonsynonymous positions: Difference in lambda vs. binding affinity\")\n",
    "plt.xlabel(\"lambda_syn - lambda_nonsyn\")\n",
    "plt.ylabel(\"Binding Affinity (nM)\")"
   ]
  },
  {
   "cell_type": "code",
   "execution_count": 502,
   "metadata": {},
   "outputs": [
    {
     "data": {
      "text/plain": [
       "Text(0, 0.5, 'Binding Affinity (nM)')"
      ]
     },
     "execution_count": 502,
     "metadata": {},
     "output_type": "execute_result"
    },
    {
     "data": {
      "image/png": "[encoded data removed]",
      "text/plain": [
       "<Figure size 864x576 with 1 Axes>"
      ]
     },
     "metadata": {
      "needs_background": "light"
     },
     "output_type": "display_data"
    }
   ],
   "source": [
    "plt.figure(figsize=(12,8))\n",
    "plt.scatter(diffs, min_binding)\n",
    "plt.title(\"Synonymous positions: Difference in lambda vs. binding affinity\")\n",
    "plt.xlabel(\"lambda_syn - lambda_nonsyn\")\n",
    "plt.ylabel(\"Binding Affinity (nM)\")"
   ]
  },
  {
   "cell_type": "code",
   "execution_count": null,
   "metadata": {},
   "outputs": [],
   "source": []
  },
  {
   "cell_type": "code",
   "execution_count": 522,
   "metadata": {},
   "outputs": [],
   "source": [
    "# plot difference from original vs mutated\n",
    "diffs=[]\n",
    "min_binding=[]\n",
    "\n",
    "for pos in binders_syn:\n",
    "    arr=binders_syn[pos]\n",
    "    ranks=[]\n",
    "    # for each mutated peptide\n",
    "    for i in arr[1:]:\n",
    "        ranks.append(i[1])\n",
    "    min_binding.append(min(ranks))\n",
    "    diffs.append(arr[0][1]-min(ranks))"
   ]
  },
  {
   "cell_type": "code",
   "execution_count": 523,
   "metadata": {},
   "outputs": [],
   "source": [
    "diffs_ns=[]\n",
    "min_binding=[]\n",
    "\n",
    "for pos in binders_ns:\n",
    "    arr=binders_ns[pos]\n",
    "    ranks=[]\n",
    "    # for each mutated peptide\n",
    "    for i in arr[1:]:\n",
    "        ranks.append(i[1])\n",
    "    min_binding.append(min(ranks))\n",
    "    diffs_ns.append(arr[0][1]-min(ranks))"
   ]
  },
  {
   "cell_type": "code",
   "execution_count": 524,
   "metadata": {},
   "outputs": [],
   "source": [
    "x1=np.arange(len(diffs))\n",
    "y1=sorted(diffs)\n",
    "\n",
    "x2=np.arange(len(diffs_ns))\n",
    "y2=sorted(diffs_ns)"
   ]
  },
  {
   "cell_type": "code",
   "execution_count": 525,
   "metadata": {},
   "outputs": [
    {
     "data": {
      "image/png": "[encoded data removed]",
      "text/plain": [
       "<Figure size 720x360 with 2 Axes>"
      ]
     },
     "metadata": {
      "needs_background": "light"
     },
     "output_type": "display_data"
    }
   ],
   "source": [
    "plt.figure(figsize=(10,5))\n",
    "plt.subplot(1, 2, 1)\n",
    "plt.plot(x1, y1)\n",
    "plt.title('Synonymous Sites')\n",
    "plt.ylabel('Difference in rank between original and mutated')\n",
    "\n",
    "\n",
    "plt.subplot(1, 2, 2)\n",
    "plt.plot(x2, y2)\n",
    "plt.title('Nonsynonymous sites')\n",
    "plt.ylabel('Difference in rank between original and mutated')\n",
    "plt.tight_layout()\n",
    "plt.show()"
   ]
  },
  {
   "cell_type": "code",
   "execution_count": null,
   "metadata": {},
   "outputs": [],
   "source": []
  },
  {
   "cell_type": "code",
   "execution_count": null,
   "metadata": {},
   "outputs": [],
   "source": []
  },
  {
   "cell_type": "code",
   "execution_count": null,
   "metadata": {},
   "outputs": [],
   "source": []
  },
  {
   "cell_type": "code",
   "execution_count": null,
   "metadata": {},
   "outputs": [],
   "source": []
  },
  {
   "cell_type": "markdown",
   "metadata": {},
   "source": [
    "# Archive\n",
    "\n",
    "### Analyze number of mutations per bin size"
   ]
  },
  {
   "cell_type": "code",
   "execution_count": 27,
   "metadata": {},
   "outputs": [],
   "source": [
    "# HUGO__chr: [start, end, #muts]\n",
    "genes={}\n",
    "\n",
    "with open(file_maf) as f:\n",
    "    for idx, line in enumerate(f):\n",
    "        if idx > 0:\n",
    "            try: \n",
    "                t=line.split(\"\\t\")\n",
    "                hugo=t[0]\n",
    "#                 if hugo=='Unknown':\n",
    "#                     continue\n",
    "                chrom=t[1]\n",
    "                start=int(t[2])\n",
    "                end=int(t[3])\n",
    "                var_type=t[6]\n",
    "                ref=t[7]\n",
    "                alt=t[9]\n",
    "                \n",
    "                key=hugo+\"_\"+chrom\n",
    "                if key in genes:\n",
    "                    genes[key][2]+=1\n",
    "                    # update the start/end pos of the gene if we find another mutation on the same chr\n",
    "                    if start < genes[key][0]:\n",
    "                        genes[key][0] = start \n",
    "                    elif end > genes[key][1]:\n",
    "                        genes[key][1] = end \n",
    "                else:\n",
    "                    genes[key] = [start, end, 1]\n",
    "            except:\n",
    "                print (line)"
   ]
  },
  {
   "cell_type": "code",
   "execution_count": 114,
   "metadata": {},
   "outputs": [
    {
     "name": "stdout",
     "output_type": "stream",
     "text": [
      "2628\n"
     ]
    }
   ],
   "source": [
    "gene_lengths=[]\n",
    "num_muts=[]\n",
    "num_one=0\n",
    "for idx, gene in enumerate(genes):\n",
    "#         print(gene, genes[gene][1]-genes[gene][0], genes[gene][2]) \n",
    "        if genes[gene][1]-genes[gene][0] > 0:\n",
    "            gene_lengths.append(genes[gene][1]-genes[gene][0])\n",
    "        else: \n",
    "            num_one +=1\n",
    "            gene_lengths.append(1)\n",
    "        num_muts.append(genes[gene][2])\n",
    "\n",
    "\n",
    "muts_per_pos=[]\n",
    "for idx,i in enumerate(gene_lengths):\n",
    "    muts_per_pos.append(i/num_muts[idx])\n",
    "print(num_one)"
   ]
  },
  {
   "cell_type": "code",
   "execution_count": 105,
   "metadata": {},
   "outputs": [
    {
     "data": {
      "text/plain": [
       "1"
      ]
     },
     "execution_count": 105,
     "metadata": {},
     "output_type": "execute_result"
    }
   ],
   "source": [
    "sorted(gene_lengths)[0]"
   ]
  },
  {
   "cell_type": "code",
   "execution_count": 106,
   "metadata": {},
   "outputs": [],
   "source": [
    "s=sorted(muts_per_pos)"
   ]
  },
  {
   "cell_type": "code",
   "execution_count": 119,
   "metadata": {},
   "outputs": [
    {
     "name": "stdout",
     "output_type": "stream",
     "text": [
      "3164\n"
     ]
    }
   ],
   "source": [
    "for idx, i in enumerate(s):\n",
    "    if i > 1.0:\n",
    "        print (idx)\n",
    "        break"
   ]
  },
  {
   "cell_type": "code",
   "execution_count": 109,
   "metadata": {},
   "outputs": [
    {
     "data": {
      "text/plain": [
       "8478.6977057902"
      ]
     },
     "execution_count": 109,
     "metadata": {},
     "output_type": "execute_result"
    }
   ],
   "source": [
    "np.average(s)"
   ]
  },
  {
   "cell_type": "code",
   "execution_count": 123,
   "metadata": {},
   "outputs": [
    {
     "data": {
      "text/plain": [
       "22835"
      ]
     },
     "execution_count": 123,
     "metadata": {},
     "output_type": "execute_result"
    }
   ],
   "source": [
    "len(s)"
   ]
  },
  {
   "cell_type": "code",
   "execution_count": 127,
   "metadata": {},
   "outputs": [
    {
     "data": {
      "text/plain": [
       "(array([6281., 2832., 1862., 1366., 1204.,  883.,  723.,  562.,  448.,\n",
       "         346.]),\n",
       " array([1.50000000e+00, 3.87259091e+02, 7.73018182e+02, 1.15877727e+03,\n",
       "        1.54453636e+03, 1.93029545e+03, 2.31605455e+03, 2.70181364e+03,\n",
       "        3.08757273e+03, 3.47333182e+03, 3.85909091e+03]),\n",
       " <a list of 10 Patch objects>)"
      ]
     },
     "execution_count": 127,
     "metadata": {},
     "output_type": "execute_result"
    },
    {
     "data": {
      "image/png": "[encoded data removed]",
      "text/plain": [
       "<Figure size 1152x720 with 1 Axes>"
      ]
     },
     "metadata": {
      "needs_background": "light"
     },
     "output_type": "display_data"
    }
   ],
   "source": [
    "plt.figure(figsize=(16,10))\n",
    "plt.title(\"Positions per mutation\")\n",
    "plt.hist(s[3164:len(s)-3164])"
   ]
  },
  {
   "cell_type": "code",
   "execution_count": 36,
   "metadata": {},
   "outputs": [
    {
     "data": {
      "text/plain": [
       "(array([56., 21., 11.,  4.,  4.,  0.,  1.,  2.,  0.,  1.]),\n",
       " array([  1. ,  43.1,  85.2, 127.3, 169.4, 211.5, 253.6, 295.7, 337.8,\n",
       "        379.9, 422. ]),\n",
       " <a list of 10 Patch objects>)"
      ]
     },
     "execution_count": 36,
     "metadata": {},
     "output_type": "execute_result"
    },
    {
     "data": {
      "image/png": "[encoded data removed]",
      "text/plain": [
       "<Figure size 432x288 with 1 Axes>"
      ]
     },
     "metadata": {
      "needs_background": "light"
     },
     "output_type": "display_data"
    }
   ],
   "source": [
    "plt.hist(num_muts)"
   ]
  },
  {
   "cell_type": "code",
   "execution_count": 35,
   "metadata": {},
   "outputs": [
    {
     "data": {
      "text/plain": [
       "(array([66., 14.,  8.,  2.,  3.,  2.,  2.,  1.,  1.,  1.]),\n",
       " array([     0. ,  72175.7, 144351.4, 216527.1, 288702.8, 360878.5,\n",
       "        433054.2, 505229.9, 577405.6, 649581.3, 721757. ]),\n",
       " <a list of 10 Patch objects>)"
      ]
     },
     "execution_count": 35,
     "metadata": {},
     "output_type": "execute_result"
    },
    {
     "data": {
      "image/png": "[encoded data removed]",
      "text/plain": [
       "<Figure size 432x288 with 1 Axes>"
      ]
     },
     "metadata": {
      "needs_background": "light"
     },
     "output_type": "display_data"
    }
   ],
   "source": [
    "plt.hist(gene_lengths)"
   ]
  },
  {
   "cell_type": "markdown",
   "metadata": {},
   "source": [
    "### How many mutations within a X position-radius?\n",
    "\n",
    "-10/+10: \n",
    "- average: 1.4 \n",
    "\n",
    "-50/+50:\n",
    "- average: 2.15\n",
    "- median: 1 \n",
    "- all greater than 1: \n",
    "    - average: 3.4\n",
    "    - median: 3 \n",
    "    - length: 205455\n",
    "    \n",
    "-100/+100\n",
    "- average: 2.8\n",
    "- median: 1 \n"
   ]
  },
  {
   "cell_type": "code",
   "execution_count": 172,
   "metadata": {},
   "outputs": [
    {
     "name": "stdout",
     "output_type": "stream",
     "text": [
      "0  lines computed\n",
      "50000  lines computed\n",
      "100000  lines computed\n",
      "150000  lines computed\n",
      "200000  lines computed\n",
      "250000  lines computed\n",
      "300000  lines computed\n",
      "350000  lines computed\n",
      "400000  lines computed\n"
     ]
    }
   ],
   "source": [
    "# HUGO__chr: [start, end, #muts]\n",
    "genes={}\n",
    "\n",
    "mutation_positions={}\n",
    "with open(file_maf) as f:\n",
    "    for idx, line in enumerate(f):\n",
    "        if idx%50000==0:\n",
    "            print(idx, \" lines computed\")\n",
    "        if idx > 0:\n",
    "            t=line.split(\"\\t\")\n",
    "            hugo=t[0]\n",
    "#                 if hugo=='Unknown':\n",
    "#                     continue\n",
    "            chrom=t[1]\n",
    "            start=int(t[2])\n",
    "            end=int(t[3])\n",
    "            var_type=t[6]\n",
    "            ref=t[7]\n",
    "            alt=t[9]\n",
    "\n",
    "            x=100\n",
    "            rang=[start-x,start+x]\n",
    "\n",
    "            if chrom in mutation_positions:\n",
    "                mutation_positions[chrom].append(start)\n",
    "            else:\n",
    "                mutation_positions[chrom]=[start]\n",
    "\n",
    "            key=hugo+\"_\"+chrom\n"
   ]
  },
  {
   "cell_type": "code",
   "execution_count": 181,
   "metadata": {},
   "outputs": [],
   "source": [
    "hits={}\n",
    "hits[\"all\"]=[]\n",
    "\n",
    "for ch in mutation_positions:\n",
    "    print (ch)\n",
    "    sorted_positions=sorted(mutation_positions[ch])\n",
    "    for out_pos in sorted_positions:\n",
    "        hit=0\n",
    "        for pos in sorted_positions:\n",
    "            x=100\n",
    "            rang=[pos-x, pos+x]\n",
    "            if rang[0] <= out_pos <= rang[1]:\n",
    "                hit+=1\n",
    "            if pos > rang[1]:\n",
    "                break\n",
    "                \n",
    "        hits[\"all\"].append(hit)\n",
    "        if chrom in hits:\n",
    "            hits[ch].append(hit)\n",
    "        else:\n",
    "            hits[ch] = [hit]"
   ]
  },
  {
   "cell_type": "code",
   "execution_count": 190,
   "metadata": {},
   "outputs": [],
   "source": [
    "arr=[x for x in hits['all'] if x > 9]"
   ]
  },
  {
   "cell_type": "code",
   "execution_count": 191,
   "metadata": {},
   "outputs": [
    {
     "data": {
      "text/plain": [
       "44175"
      ]
     },
     "execution_count": 191,
     "metadata": {},
     "output_type": "execute_result"
    }
   ],
   "source": [
    "len(arr)"
   ]
  },
  {
   "cell_type": "raw",
   "metadata": {},
   "source": []
  },
  {
   "cell_type": "code",
   "execution_count": 192,
   "metadata": {},
   "outputs": [
    {
     "data": {
      "text/plain": [
       "0.1017674242878008"
      ]
     },
     "execution_count": 192,
     "metadata": {},
     "output_type": "execute_result"
    }
   ],
   "source": [
    "len(arr)/len(hits['all'])"
   ]
  },
  {
   "cell_type": "code",
   "execution_count": 193,
   "metadata": {},
   "outputs": [
    {
     "name": "stdout",
     "output_type": "stream",
     "text": [
      "4.692032307557628 3.0\n"
     ]
    }
   ],
   "source": [
    "print(np.average(hits['all']), np.median(hits['all']))"
   ]
  },
  {
   "cell_type": "code",
   "execution_count": 194,
   "metadata": {},
   "outputs": [
    {
     "data": {
      "text/plain": [
       "(array([2.3264e+04, 1.1354e+04, 3.8660e+03, 2.8420e+03, 9.8000e+02,\n",
       "        7.7500e+02, 2.7600e+02, 2.4300e+02, 4.5000e+01, 3.2000e+01,\n",
       "        4.0000e+01, 3.0000e+01, 1.1000e+01, 8.0000e+00, 0.0000e+00,\n",
       "        0.0000e+00, 7.0000e+00, 0.0000e+00, 5.0000e+00, 0.0000e+00,\n",
       "        0.0000e+00, 0.0000e+00, 0.0000e+00, 0.0000e+00, 0.0000e+00,\n",
       "        0.0000e+00, 0.0000e+00, 0.0000e+00, 0.0000e+00, 0.0000e+00,\n",
       "        0.0000e+00, 0.0000e+00, 0.0000e+00, 0.0000e+00, 0.0000e+00,\n",
       "        0.0000e+00, 0.0000e+00, 0.0000e+00, 0.0000e+00, 0.0000e+00,\n",
       "        0.0000e+00, 0.0000e+00, 0.0000e+00, 0.0000e+00, 0.0000e+00,\n",
       "        0.0000e+00, 0.0000e+00, 0.0000e+00, 0.0000e+00, 1.3500e+02,\n",
       "        0.0000e+00, 0.0000e+00, 0.0000e+00, 0.0000e+00, 0.0000e+00,\n",
       "        0.0000e+00, 0.0000e+00, 0.0000e+00, 0.0000e+00, 0.0000e+00,\n",
       "        0.0000e+00, 0.0000e+00, 0.0000e+00, 0.0000e+00, 0.0000e+00,\n",
       "        0.0000e+00, 0.0000e+00, 0.0000e+00, 0.0000e+00, 0.0000e+00,\n",
       "        0.0000e+00, 0.0000e+00, 0.0000e+00, 0.0000e+00, 0.0000e+00,\n",
       "        0.0000e+00, 0.0000e+00, 0.0000e+00, 0.0000e+00, 0.0000e+00,\n",
       "        0.0000e+00, 0.0000e+00, 0.0000e+00, 0.0000e+00, 0.0000e+00,\n",
       "        0.0000e+00, 0.0000e+00, 0.0000e+00, 0.0000e+00, 0.0000e+00,\n",
       "        0.0000e+00, 0.0000e+00, 0.0000e+00, 0.0000e+00, 0.0000e+00,\n",
       "        0.0000e+00, 0.0000e+00, 0.0000e+00, 1.0000e+00, 2.6100e+02]),\n",
       " array([ 10.  ,  12.52,  15.04,  17.56,  20.08,  22.6 ,  25.12,  27.64,\n",
       "         30.16,  32.68,  35.2 ,  37.72,  40.24,  42.76,  45.28,  47.8 ,\n",
       "         50.32,  52.84,  55.36,  57.88,  60.4 ,  62.92,  65.44,  67.96,\n",
       "         70.48,  73.  ,  75.52,  78.04,  80.56,  83.08,  85.6 ,  88.12,\n",
       "         90.64,  93.16,  95.68,  98.2 , 100.72, 103.24, 105.76, 108.28,\n",
       "        110.8 , 113.32, 115.84, 118.36, 120.88, 123.4 , 125.92, 128.44,\n",
       "        130.96, 133.48, 136.  , 138.52, 141.04, 143.56, 146.08, 148.6 ,\n",
       "        151.12, 153.64, 156.16, 158.68, 161.2 , 163.72, 166.24, 168.76,\n",
       "        171.28, 173.8 , 176.32, 178.84, 181.36, 183.88, 186.4 , 188.92,\n",
       "        191.44, 193.96, 196.48, 199.  , 201.52, 204.04, 206.56, 209.08,\n",
       "        211.6 , 214.12, 216.64, 219.16, 221.68, 224.2 , 226.72, 229.24,\n",
       "        231.76, 234.28, 236.8 , 239.32, 241.84, 244.36, 246.88, 249.4 ,\n",
       "        251.92, 254.44, 256.96, 259.48, 262.  ]),\n",
       " <a list of 100 Patch objects>)"
      ]
     },
     "execution_count": 194,
     "metadata": {},
     "output_type": "execute_result"
    },
    {
     "data": {
      "image/png": "[encoded data removed]",
      "text/plain": [
       "<Figure size 432x288 with 1 Axes>"
      ]
     },
     "metadata": {
      "needs_background": "light"
     },
     "output_type": "display_data"
    }
   ],
   "source": [
    "plt.hist(arr,bins=100)"
   ]
  },
  {
   "cell_type": "code",
   "execution_count": null,
   "metadata": {},
   "outputs": [],
   "source": []
  }
 ],
 "metadata": {
  "kernelspec": {
   "display_name": "Python 3",
   "language": "python",
   "name": "python3"
  },
  "language_info": {
   "codemirror_mode": {
    "name": "ipython",
    "version": 3
   },
   "file_extension": ".py",
   "mimetype": "text/x-python",
   "name": "python",
   "nbconvert_exporter": "python",
   "pygments_lexer": "ipython3",
   "version": "3.7.3"
  }
 },
 "nbformat": 4,
 "nbformat_minor": 4
}
